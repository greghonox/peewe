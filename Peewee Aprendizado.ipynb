{
 "metadata": {
  "language_info": {
   "codemirror_mode": {
    "name": "ipython",
    "version": 3
   },
   "file_extension": ".py",
   "mimetype": "text/x-python",
   "name": "python",
   "nbconvert_exporter": "python",
   "pygments_lexer": "ipython3",
   "version": "3.8.6-candidate"
  },
  "orig_nbformat": 2,
  "kernelspec": {
   "name": "python3",
   "display_name": "Python 3.8.6 64-bit",
   "metadata": {
    "interpreter": {
     "hash": "793dc8a88c3f633277c6a01574284a70497bc6df8874e35aa3b159965051de43"
    }
   }
  }
 },
 "nbformat": 4,
 "nbformat_minor": 2,
 "cells": [
  {
   "source": [
    "# TRABALHANDO COM PEEWEE\n",
    "#### GREGHONO@GMAIL.COM"
   ],
   "cell_type": "markdown",
   "metadata": {}
  },
  {
   "cell_type": "code",
   "execution_count": 16,
   "metadata": {},
   "outputs": [],
   "source": [
    "from peewee import *\n",
    "from os.path import expanduser"
   ]
  },
  {
   "source": [
    "### CRIA O BANCO DE DADOS NA AREA DE TRABALHO"
   ],
   "cell_type": "markdown",
   "metadata": {}
  },
  {
   "cell_type": "code",
   "execution_count": 17,
   "metadata": {},
   "outputs": [],
   "source": [
    "db = SqliteDatabase(expanduser('~\\\\Desktop\\\\banco_peewee.db'))\n"
   ]
  },
  {
   "source": [
    "### CRIANDO AS ENTIDADES RELACIONAIS"
   ],
   "cell_type": "markdown",
   "metadata": {}
  },
  {
   "cell_type": "code",
   "execution_count": 3,
   "metadata": {},
   "outputs": [],
   "source": [
    "class BaseModel(Model):\n",
    "    class Meta:\n",
    "        database = db"
   ]
  },
  {
   "cell_type": "code",
   "execution_count": 4,
   "metadata": {},
   "outputs": [],
   "source": [
    "class Pessoa(BaseModel):\n",
    "    nome = CharField(max_length=50)\n",
    "    sobrenome = CharField(max_length=50)"
   ]
  },
  {
   "cell_type": "code",
   "execution_count": 5,
   "metadata": {},
   "outputs": [],
   "source": [
    "class Pet(BaseModel):\n",
    "    nome = CharField(max_length=50)\n",
    "    tipo = CharField(max_length=50)\n",
    "    dono = ForeignKeyField(Pessoa)    "
   ]
  },
  {
   "source": [
    "### CRIA O BANCO DE DADOS EM DISCO"
   ],
   "cell_type": "markdown",
   "metadata": {}
  },
  {
   "cell_type": "code",
   "execution_count": 6,
   "metadata": {},
   "outputs": [],
   "source": [
    "def criar_db():\n",
    "    db.connect()\n",
    "    db.create_tables([Pessoa, Pet])\n",
    "    db.close()"
   ]
  },
  {
   "source": [
    "# CRIANDO UMA ESTRUTURA MAIS PROFISSIONAL"
   ],
   "cell_type": "markdown",
   "metadata": {}
  },
  {
   "cell_type": "code",
   "execution_count": 18,
   "metadata": {},
   "outputs": [],
   "source": [
    "class Fornecedores(BaseModel):\n",
    "    nome =CharField()\n",
    "    telefone = CharField()\n",
    "    whatsapp = CharField()\n",
    "    email = CharField()\n",
    "    cidade = CharField()\n",
    "    estador = CharField(max_length=2)\n",
    "    situacao = IntegerField()\n",
    "\n",
    "class Equipamentos(BaseModel):\n",
    "    nome = CharField()\n",
    "    descricao = TextField()\n",
    "    unidade = IntegerField()\n",
    "    fornecedor = ForeignKeyField(Fornecedores)\n",
    "\n",
    "class Clientes(BaseModel):\n",
    "    nome =CharField()\n",
    "    telefone = CharField()\n",
    "    whatsapp = CharField()\n",
    "    email = CharField()\n",
    "    cidade = CharField()\n",
    "    estador = CharField(max_length=2)\n",
    "    situacao = IntegerField()\n",
    "\n",
    "class Tecnicos(BaseModel):\n",
    "    nome =CharField()\n",
    "    telefone = CharField()\n",
    "    whatsapp = CharField()\n",
    "    email = CharField()\n",
    "    cidade = CharField()\n",
    "    estador = CharField(max_length=2)\n",
    "    situacao = IntegerField()\n",
    "\n",
    "class Estoque(BaseModel):\n",
    "    produto = ForeignKeyField(Equipamentos)\n",
    "    quantidade = IntegerField()\n",
    "    preco = DecimalField()\n",
    "    data_entrada = DateTimeField()\n",
    "\n",
    "class Usuarios(BaseModel):\n",
    "    nome =CharField()\n",
    "    telefone = CharField()\n",
    "    whatsapp = CharField()\n",
    "    email = CharField()\n",
    "    cidade = CharField()\n",
    "    estador = CharField(max_length=2)\n",
    "    situacao = IntegerField()\n",
    "\n",
    "def criar_db():\n",
    "    db.connect()\n",
    "    db.create_tables([Equipamentos, Usuarios, Clientes, Fornecedores, Estoque, Tecnicos])\n",
    "    db.close()\n",
    "\n",
    "criar_db()"
   ]
  },
  {
   "cell_type": "code",
   "execution_count": 7,
   "metadata": {},
   "outputs": [],
   "source": [
    "criar_db()"
   ]
  },
  {
   "source": [
    "### INSERT BASICOS"
   ],
   "cell_type": "markdown",
   "metadata": {}
  },
  {
   "cell_type": "code",
   "execution_count": 8,
   "metadata": {},
   "outputs": [
    {
     "output_type": "execute_result",
     "data": {
      "text/plain": [
       "1"
      ]
     },
     "metadata": {},
     "execution_count": 8
    }
   ],
   "source": [
    "p = Pessoa(nome='Gregorio', sobrenome='Honorato')\n",
    "p.save()"
   ]
  },
  {
   "cell_type": "code",
   "execution_count": 9,
   "metadata": {},
   "outputs": [
    {
     "output_type": "execute_result",
     "data": {
      "text/plain": [
       "1"
      ]
     },
     "metadata": {},
     "execution_count": 9
    }
   ],
   "source": [
    "c = Pet(nome='Mile', tipo='Cachorro', dono=0)\n",
    "c.save()"
   ]
  },
  {
   "cell_type": "code",
   "execution_count": 10,
   "metadata": {},
   "outputs": [],
   "source": [
    "for i in range(10): Pessoa(nome='Pessoa {}'.format(i), sobrenome='Sobrenome {}'.format(i)).save()"
   ]
  },
  {
   "source": [
    "### SELECT DOS DADOS"
   ],
   "cell_type": "markdown",
   "metadata": {}
  },
  {
   "cell_type": "code",
   "execution_count": 11,
   "metadata": {},
   "outputs": [
    {
     "output_type": "stream",
     "name": "stdout",
     "text": [
      "Gregorio Honorato\nPessoa 0 Sobrenome 0\nPessoa 1 Sobrenome 1\nPessoa 2 Sobrenome 2\nPessoa 3 Sobrenome 3\nPessoa 4 Sobrenome 4\nPessoa 5 Sobrenome 5\nPessoa 6 Sobrenome 6\nPessoa 7 Sobrenome 7\nPessoa 8 Sobrenome 8\nPessoa 9 Sobrenome 9\n"
     ]
    }
   ],
   "source": [
    "for i in p.select(): print(i.nome, i.sobrenome)"
   ]
  },
  {
   "cell_type": "code",
   "execution_count": 12,
   "metadata": {},
   "outputs": [
    {
     "output_type": "execute_result",
     "data": {
      "text/plain": [
       "1"
      ]
     },
     "metadata": {},
     "execution_count": 12
    }
   ],
   "source": [
    "Pet(nome='Peixe', tipo='Peixe', dono=Pessoa.get(Pessoa.id == 1)).save()"
   ]
  },
  {
   "cell_type": "code",
   "execution_count": 13,
   "metadata": {},
   "outputs": [
    {
     "output_type": "error",
     "ename": "PessoaDoesNotExist",
     "evalue": "<Model: Pessoa> instance matching query does not exist:\nSQL: SELECT \"t1\".\"id\", \"t1\".\"nome\", \"t1\".\"sobrenome\" FROM \"pessoa\" AS \"t1\" WHERE (\"t1\".\"id\" = ?) LIMIT ? OFFSET ?\nParams: [0, 1, 0]",
     "traceback": [
      "\u001b[1;31m---------------------------------------------------------------------------\u001b[0m",
      "\u001b[1;31mIndexError\u001b[0m                                Traceback (most recent call last)",
      "\u001b[1;32m~\\AppData\\Local\\Programs\\Python\\Python38\\lib\\site-packages\\peewee.py\u001b[0m in \u001b[0;36mget\u001b[1;34m(self, database)\u001b[0m\n\u001b[0;32m   6860\u001b[0m         \u001b[1;32mtry\u001b[0m\u001b[1;33m:\u001b[0m\u001b[1;33m\u001b[0m\u001b[1;33m\u001b[0m\u001b[0m\n\u001b[1;32m-> 6861\u001b[1;33m             \u001b[1;32mreturn\u001b[0m \u001b[0mclone\u001b[0m\u001b[1;33m.\u001b[0m\u001b[0mexecute\u001b[0m\u001b[1;33m(\u001b[0m\u001b[0mdatabase\u001b[0m\u001b[1;33m)\u001b[0m\u001b[1;33m[\u001b[0m\u001b[1;36m0\u001b[0m\u001b[1;33m]\u001b[0m\u001b[1;33m\u001b[0m\u001b[1;33m\u001b[0m\u001b[0m\n\u001b[0m\u001b[0;32m   6862\u001b[0m         \u001b[1;32mexcept\u001b[0m \u001b[0mIndexError\u001b[0m\u001b[1;33m:\u001b[0m\u001b[1;33m\u001b[0m\u001b[1;33m\u001b[0m\u001b[0m\n",
      "\u001b[1;32m~\\AppData\\Local\\Programs\\Python\\Python38\\lib\\site-packages\\peewee.py\u001b[0m in \u001b[0;36m__getitem__\u001b[1;34m(self, item)\u001b[0m\n\u001b[0;32m   4257\u001b[0m             \u001b[0mself\u001b[0m\u001b[1;33m.\u001b[0m\u001b[0mfill_cache\u001b[0m\u001b[1;33m(\u001b[0m\u001b[0mitem\u001b[0m \u001b[1;32mif\u001b[0m \u001b[0mitem\u001b[0m \u001b[1;33m>\u001b[0m \u001b[1;36m0\u001b[0m \u001b[1;32melse\u001b[0m \u001b[1;36m0\u001b[0m\u001b[1;33m)\u001b[0m\u001b[1;33m\u001b[0m\u001b[1;33m\u001b[0m\u001b[0m\n\u001b[1;32m-> 4258\u001b[1;33m             \u001b[1;32mreturn\u001b[0m \u001b[0mself\u001b[0m\u001b[1;33m.\u001b[0m\u001b[0mrow_cache\u001b[0m\u001b[1;33m[\u001b[0m\u001b[0mitem\u001b[0m\u001b[1;33m]\u001b[0m\u001b[1;33m\u001b[0m\u001b[1;33m\u001b[0m\u001b[0m\n\u001b[0m\u001b[0;32m   4259\u001b[0m         \u001b[1;32melse\u001b[0m\u001b[1;33m:\u001b[0m\u001b[1;33m\u001b[0m\u001b[1;33m\u001b[0m\u001b[0m\n",
      "\u001b[1;31mIndexError\u001b[0m: list index out of range",
      "\nDuring handling of the above exception, another exception occurred:\n",
      "\u001b[1;31mPessoaDoesNotExist\u001b[0m                        Traceback (most recent call last)",
      "\u001b[1;32m<ipython-input-13-a667bcc7d254>\u001b[0m in \u001b[0;36m<module>\u001b[1;34m\u001b[0m\n\u001b[1;32m----> 1\u001b[1;33m \u001b[1;32mfor\u001b[0m \u001b[0mi\u001b[0m \u001b[1;32min\u001b[0m \u001b[0mc\u001b[0m\u001b[1;33m.\u001b[0m\u001b[0mselect\u001b[0m\u001b[1;33m(\u001b[0m\u001b[1;33m)\u001b[0m\u001b[1;33m:\u001b[0m \u001b[0mprint\u001b[0m\u001b[1;33m(\u001b[0m\u001b[0mi\u001b[0m\u001b[1;33m.\u001b[0m\u001b[0mnome\u001b[0m\u001b[1;33m,\u001b[0m \u001b[0mi\u001b[0m\u001b[1;33m.\u001b[0m\u001b[0mtipo\u001b[0m\u001b[1;33m,\u001b[0m \u001b[0mPessoa\u001b[0m\u001b[1;33m.\u001b[0m\u001b[0mget\u001b[0m\u001b[1;33m(\u001b[0m\u001b[0mPessoa\u001b[0m\u001b[1;33m.\u001b[0m\u001b[0mid\u001b[0m\u001b[1;33m==\u001b[0m\u001b[0mi\u001b[0m\u001b[1;33m.\u001b[0m\u001b[0mdono_id\u001b[0m\u001b[1;33m)\u001b[0m\u001b[1;33m.\u001b[0m\u001b[0mnome\u001b[0m\u001b[1;33m,\u001b[0m \u001b[0mPessoa\u001b[0m\u001b[1;33m.\u001b[0m\u001b[0mget\u001b[0m\u001b[1;33m(\u001b[0m\u001b[0mPessoa\u001b[0m\u001b[1;33m.\u001b[0m\u001b[0mid\u001b[0m\u001b[1;33m==\u001b[0m\u001b[0mi\u001b[0m\u001b[1;33m.\u001b[0m\u001b[0mdono_id\u001b[0m\u001b[1;33m)\u001b[0m\u001b[1;33m.\u001b[0m\u001b[0msobrenome\u001b[0m\u001b[1;33m)\u001b[0m\u001b[1;33m\u001b[0m\u001b[1;33m\u001b[0m\u001b[0m\n\u001b[0m",
      "\u001b[1;32m~\\AppData\\Local\\Programs\\Python\\Python38\\lib\\site-packages\\peewee.py\u001b[0m in \u001b[0;36mget\u001b[1;34m(cls, *query, **filters)\u001b[0m\n\u001b[0;32m   6414\u001b[0m         \u001b[1;32mif\u001b[0m \u001b[0mfilters\u001b[0m\u001b[1;33m:\u001b[0m\u001b[1;33m\u001b[0m\u001b[1;33m\u001b[0m\u001b[0m\n\u001b[0;32m   6415\u001b[0m             \u001b[0msq\u001b[0m \u001b[1;33m=\u001b[0m \u001b[0msq\u001b[0m\u001b[1;33m.\u001b[0m\u001b[0mfilter\u001b[0m\u001b[1;33m(\u001b[0m\u001b[1;33m**\u001b[0m\u001b[0mfilters\u001b[0m\u001b[1;33m)\u001b[0m\u001b[1;33m\u001b[0m\u001b[1;33m\u001b[0m\u001b[0m\n\u001b[1;32m-> 6416\u001b[1;33m         \u001b[1;32mreturn\u001b[0m \u001b[0msq\u001b[0m\u001b[1;33m.\u001b[0m\u001b[0mget\u001b[0m\u001b[1;33m(\u001b[0m\u001b[1;33m)\u001b[0m\u001b[1;33m\u001b[0m\u001b[1;33m\u001b[0m\u001b[0m\n\u001b[0m\u001b[0;32m   6417\u001b[0m \u001b[1;33m\u001b[0m\u001b[0m\n\u001b[0;32m   6418\u001b[0m     \u001b[1;33m@\u001b[0m\u001b[0mclassmethod\u001b[0m\u001b[1;33m\u001b[0m\u001b[1;33m\u001b[0m\u001b[0m\n",
      "\u001b[1;32m~\\AppData\\Local\\Programs\\Python\\Python38\\lib\\site-packages\\peewee.py\u001b[0m in \u001b[0;36mget\u001b[1;34m(self, database)\u001b[0m\n\u001b[0;32m   6862\u001b[0m         \u001b[1;32mexcept\u001b[0m \u001b[0mIndexError\u001b[0m\u001b[1;33m:\u001b[0m\u001b[1;33m\u001b[0m\u001b[1;33m\u001b[0m\u001b[0m\n\u001b[0;32m   6863\u001b[0m             \u001b[0msql\u001b[0m\u001b[1;33m,\u001b[0m \u001b[0mparams\u001b[0m \u001b[1;33m=\u001b[0m \u001b[0mclone\u001b[0m\u001b[1;33m.\u001b[0m\u001b[0msql\u001b[0m\u001b[1;33m(\u001b[0m\u001b[1;33m)\u001b[0m\u001b[1;33m\u001b[0m\u001b[1;33m\u001b[0m\u001b[0m\n\u001b[1;32m-> 6864\u001b[1;33m             raise self.model.DoesNotExist('%s instance matching query does '\n\u001b[0m\u001b[0;32m   6865\u001b[0m                                           \u001b[1;34m'not exist:\\nSQL: %s\\nParams: %s'\u001b[0m \u001b[1;33m%\u001b[0m\u001b[1;33m\u001b[0m\u001b[1;33m\u001b[0m\u001b[0m\n\u001b[0;32m   6866\u001b[0m                                           (clone.model, sql, params))\n",
      "\u001b[1;31mPessoaDoesNotExist\u001b[0m: <Model: Pessoa> instance matching query does not exist:\nSQL: SELECT \"t1\".\"id\", \"t1\".\"nome\", \"t1\".\"sobrenome\" FROM \"pessoa\" AS \"t1\" WHERE (\"t1\".\"id\" = ?) LIMIT ? OFFSET ?\nParams: [0, 1, 0]"
     ]
    }
   ],
   "source": [
    "for i in c.select(): print(i.nome, i.tipo, Pessoa.get(Pessoa.id==i.dono_id).nome, Pessoa.get(Pessoa.id==i.dono_id).sobrenome)"
   ]
  },
  {
   "cell_type": "code",
   "execution_count": null,
   "metadata": {},
   "outputs": [],
   "source": [
    "for i in c.select(): print(i.nome, i.tipo, i.dono.nome, i.dono.sobrenome)"
   ]
  },
  {
   "cell_type": "code",
   "execution_count": null,
   "metadata": {},
   "outputs": [],
   "source": [
    "for i in p.select().where(Pessoa.id>=1 or Pessoa.id<=1): print(i.nome, i.sobrenome, Pet.get(Pet.dono_id==i.id).nome)    "
   ]
  },
  {
   "source": [
    "### ATUALIZAR OS DADOS"
   ],
   "cell_type": "markdown",
   "metadata": {}
  },
  {
   "cell_type": "code",
   "execution_count": null,
   "metadata": {},
   "outputs": [],
   "source": [
    "Pet.update(tipo='Galinha').where(Pet.id==1).execute()\n",
    "Pet.get(Pet.id==1).tipo"
   ]
  },
  {
   "cell_type": "code",
   "execution_count": null,
   "metadata": {},
   "outputs": [],
   "source": [
    "pessoa2 = Pessoa.get(Pessoa.id==2)\n",
    "pessoa2.nome, pessoa2.sobrenome"
   ]
  },
  {
   "cell_type": "code",
   "execution_count": null,
   "metadata": {},
   "outputs": [],
   "source": [
    "pessoa2.nome = 'Georgia'; pessoa2.sobrenome = 'Maria Camargo'\n",
    "pessoa2.save()\n",
    "pessoa2.nome, pessoa2.sobrenome"
   ]
  },
  {
   "cell_type": "code",
   "execution_count": null,
   "metadata": {},
   "outputs": [],
   "source": [
    "pessoas_2_10 = Pessoa.select().where(Pessoa.id>=2)\n",
    "for i in pessoas_2_10: print(i.nome)"
   ]
  },
  {
   "source": [
    "### DELETAR DADOS"
   ],
   "cell_type": "markdown",
   "metadata": {}
  },
  {
   "cell_type": "code",
   "execution_count": null,
   "metadata": {},
   "outputs": [],
   "source": [
    "Pessoa().delete().where(Pessoa.id<=5).execute()"
   ]
  },
  {
   "cell_type": "code",
   "execution_count": null,
   "metadata": {},
   "outputs": [],
   "source": [
    "for i in Pessoa.select(): print(i.nome, i.sobrenome)"
   ]
  },
  {
   "cell_type": "code",
   "execution_count": null,
   "metadata": {},
   "outputs": [],
   "source": []
  }
 ]
}